{
 "cells": [
  {
   "cell_type": "code",
   "execution_count": 2,
   "metadata": {},
   "outputs": [],
   "source": [
    "# dictionary is like a hashmap\n",
    " # key-value pair\n",
    " # key should be unique\n",
    " # keys stored in random order"
   ]
  },
  {
   "cell_type": "code",
   "execution_count": 8,
   "metadata": {},
   "outputs": [
    {
     "name": "stdout",
     "output_type": "stream",
     "text": [
      "{'Mango': 80, 'Apple': 100}\n",
      "<class 'dict'>\n",
      "{'Mango': 80, 'Apple': 100, 'Guava': 60}\n",
      "{'Mango': 80, 'Apple': 100, 'Guava': 60, 'Grape': [100, 150]}\n",
      "[100, 150]\n",
      "{'Mango': 80, 'Apple': 100, 'Guava': 60, 'Grape': [100, 150], 'Pineapple': {'Small': 120, 'Large': 180}}\n",
      "{'Small': 120, 'Large': 180}\n",
      "180\n"
     ]
    }
   ],
   "source": [
    "d = {\"Mango\": 80, \"Apple\": 100}\n",
    "print(d)\n",
    "print(type(d))\n",
    "\n",
    "d[\"Guava\"] = 60\n",
    "print(d)\n",
    "\n",
    "d[\"Grape\"] = [100, 150]\n",
    "print(d)\n",
    "print(d[\"Grape\"])\n",
    "\n",
    "d[\"Pineapple\"] = {\"Small\": 120, \"Large\": 180}\n",
    "print(d)\n",
    "print(d[\"Pineapple\"])\n",
    "print(d[\"Pineapple\"][\"Large\"])"
   ]
  },
  {
   "cell_type": "code",
   "execution_count": 9,
   "metadata": {},
   "outputs": [
    {
     "name": "stdout",
     "output_type": "stream",
     "text": [
      "dict_keys(['Mango', 'Apple', 'Guava', 'Grape', 'Pineapple'])\n"
     ]
    }
   ],
   "source": [
    "print(d.keys())"
   ]
  },
  {
   "cell_type": "code",
   "execution_count": 10,
   "metadata": {},
   "outputs": [
    {
     "name": "stdout",
     "output_type": "stream",
     "text": [
      "dict_values([80, 100, 60, [100, 150], {'Small': 120, 'Large': 180}])\n"
     ]
    }
   ],
   "source": [
    "print(d.values())"
   ]
  },
  {
   "cell_type": "code",
   "execution_count": 12,
   "metadata": {},
   "outputs": [
    {
     "name": "stdout",
     "output_type": "stream",
     "text": [
      "80\n",
      "None\n",
      "<class 'NoneType'>\n"
     ]
    }
   ],
   "source": [
    "# get is used because of key doesnt exist then it will throw an error in d[\"Mangoes\"]\n",
    "print(d.get(\"Mango\"))\n",
    "print(d.get(\"Mangoes\"))\n",
    "print(type(d.get(\"Mangoes\")))"
   ]
  },
  {
   "cell_type": "code",
   "execution_count": 13,
   "metadata": {},
   "outputs": [
    {
     "name": "stdout",
     "output_type": "stream",
     "text": [
      "Price of mango is 80\n"
     ]
    }
   ],
   "source": [
    "if \"Mango\" in d:\n",
    "    print(\"Price of mango is %d\" % (d[\"Mango\"]))\n",
    "else:\n",
    "    print(\"Does not exist\")"
   ]
  },
  {
   "cell_type": "code",
   "execution_count": 14,
   "metadata": {},
   "outputs": [
    {
     "name": "stdout",
     "output_type": "stream",
     "text": [
      "[('Mango', 80), ('Apple', 100), ('Guava', 60), ('Grape', [100, 150]), ('Pineapple', {'Small': 120, 'Large': 180})]\n"
     ]
    }
   ],
   "source": [
    "l = list(d.items())            # d.items() returns a list of tuples\n",
    "print(l)"
   ]
  },
  {
   "cell_type": "code",
   "execution_count": 17,
   "metadata": {},
   "outputs": [
    {
     "name": "stdout",
     "output_type": "stream",
     "text": [
      "{'Mango': 80, 'Apple': 100, 'Guava': 60, 'Grape': [100, 150]}\n"
     ]
    }
   ],
   "source": [
    "# del d[\"Pineapple\"]\n",
    "print(d)"
   ]
  },
  {
   "cell_type": "code",
   "execution_count": 18,
   "metadata": {},
   "outputs": [
    {
     "name": "stdout",
     "output_type": "stream",
     "text": [
      "{'Mango': 80, 'Apple': 100, 'Guava': 60, 'Grape': [100, 150], 'Strawberry': 95}\n"
     ]
    }
   ],
   "source": [
    "d2 = {\"Strawberry\": 95}\n",
    "d.update(d2)\n",
    "print(d)"
   ]
  },
  {
   "cell_type": "code",
   "execution_count": 19,
   "metadata": {},
   "outputs": [
    {
     "name": "stdout",
     "output_type": "stream",
     "text": [
      "5\n"
     ]
    }
   ],
   "source": [
    "print(len(d))"
   ]
  },
  {
   "cell_type": "code",
   "execution_count": 20,
   "metadata": {},
   "outputs": [],
   "source": [
    "# d.clear()   ->   it clears the entire dictionary"
   ]
  },
  {
   "cell_type": "code",
   "execution_count": 22,
   "metadata": {},
   "outputs": [
    {
     "name": "stdout",
     "output_type": "stream",
     "text": [
      "{'banana': 60, 'papaya': 100, 'orange': 80}\n"
     ]
    }
   ],
   "source": [
    "l1 = [\"banana\", \"papaya\", \"orange\"]\n",
    "l2 = [60, 100, 80]\n",
    "\n",
    "p = dict(zip(l1, l2))          # this converts two lists into a single dictionary\n",
    "print(p)"
   ]
  },
  {
   "cell_type": "code",
   "execution_count": 24,
   "metadata": {},
   "outputs": [
    {
     "name": "stdout",
     "output_type": "stream",
     "text": [
      "banana\n",
      "papaya\n",
      "orange\n"
     ]
    }
   ],
   "source": [
    "for k in p.keys():\n",
    "    print(k)"
   ]
  },
  {
   "cell_type": "code",
   "execution_count": 25,
   "metadata": {},
   "outputs": [
    {
     "name": "stdout",
     "output_type": "stream",
     "text": [
      "60\n",
      "100\n",
      "80\n"
     ]
    }
   ],
   "source": [
    "for v in p.values():\n",
    "    print(v)"
   ]
  },
  {
   "cell_type": "code",
   "execution_count": null,
   "metadata": {},
   "outputs": [],
   "source": []
  }
 ],
 "metadata": {
  "kernelspec": {
   "display_name": "Python 3",
   "language": "python",
   "name": "python3"
  },
  "language_info": {
   "codemirror_mode": {
    "name": "ipython",
    "version": 3
   },
   "file_extension": ".py",
   "mimetype": "text/x-python",
   "name": "python",
   "nbconvert_exporter": "python",
   "pygments_lexer": "ipython3",
   "version": "3.6.8"
  }
 },
 "nbformat": 4,
 "nbformat_minor": 2
}
