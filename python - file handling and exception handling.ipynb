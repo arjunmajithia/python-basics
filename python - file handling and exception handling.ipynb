{
 "cells": [
  {
   "cell_type": "code",
   "execution_count": 1,
   "metadata": {},
   "outputs": [
    {
     "data": {
      "text/plain": [
       "'This is sample file.\\nThis is a sample text and I am learning file handling.'"
      ]
     },
     "execution_count": 1,
     "metadata": {},
     "output_type": "execute_result"
    }
   ],
   "source": [
    "f = open(\"sample_file.txt\", \"r\")\n",
    "f.read()"
   ]
  },
  {
   "cell_type": "code",
   "execution_count": 6,
   "metadata": {},
   "outputs": [],
   "source": [
    "content = \"Arjun Majithia\\n\"\n",
    "l = [content]*3            # creates a list which contains content 3 times\n",
    "f = open(\"sample_file.txt\", \"w\")\n",
    "f.writelines(content)\n",
    "f.close()"
   ]
  },
  {
   "cell_type": "code",
   "execution_count": 7,
   "metadata": {},
   "outputs": [
    {
     "data": {
      "text/plain": [
       "'Arjun Majithia\\n'"
      ]
     },
     "execution_count": 7,
     "metadata": {},
     "output_type": "execute_result"
    }
   ],
   "source": [
    "f = open(\"sample_file.txt\", \"r\")\n",
    "f.read()\n"
   ]
  },
  {
   "cell_type": "code",
   "execution_count": 8,
   "metadata": {},
   "outputs": [],
   "source": [
    "f = open(\"sample_file.txt\", \"w\")\n",
    "f.writelines(l)\n",
    "f.close()"
   ]
  },
  {
   "cell_type": "code",
   "execution_count": 9,
   "metadata": {},
   "outputs": [
    {
     "data": {
      "text/plain": [
       "'Arjun Majithia\\nArjun Majithia\\nArjun Majithia\\n'"
      ]
     },
     "execution_count": 9,
     "metadata": {},
     "output_type": "execute_result"
    }
   ],
   "source": [
    "f = open(\"sample_file.txt\", \"r\")\n",
    "f.read()\n"
   ]
  },
  {
   "cell_type": "code",
   "execution_count": 13,
   "metadata": {},
   "outputs": [
    {
     "name": "stdout",
     "output_type": "stream",
     "text": [
      "['Arjun Majithia\\n', 'Arjun Majithia\\n', 'Arjun Majithia\\n']\n"
     ]
    }
   ],
   "source": [
    "f = open(\"sample_file.txt\", \"r\")\n",
    "# print(f.read())             # reads the file\n",
    "# print(f.readline())         # reads the first line \n",
    "# print()\n",
    "print(f.readlines())          # reads the entire file and outputs it as a list"
   ]
  },
  {
   "cell_type": "code",
   "execution_count": 14,
   "metadata": {},
   "outputs": [],
   "source": [
    "# reading file with open"
   ]
  },
  {
   "cell_type": "code",
   "execution_count": 15,
   "metadata": {},
   "outputs": [
    {
     "name": "stdout",
     "output_type": "stream",
     "text": [
      "False\n",
      "Arjun Majithia\n",
      "Arjun Majithia\n",
      "Arjun Majithia\n",
      "\n"
     ]
    }
   ],
   "source": [
    "with open(\"sample_file.txt\", \"r\") as f:\n",
    "    print(f.closed)\n",
    "    print(f.read())\n",
    "    # automatically closes the file, ensures cleanup"
   ]
  },
  {
   "cell_type": "code",
   "execution_count": 16,
   "metadata": {},
   "outputs": [
    {
     "name": "stdout",
     "output_type": "stream",
     "text": [
      " Majithia\n",
      "Arjun Majithia\n",
      "Arjun Majithia\n",
      "\n"
     ]
    }
   ],
   "source": [
    "with open(\"sample_file.txt\", \"r\") as f:\n",
    "    f.seek(5)                              # it places the file pointer at 5 positions from beginning\n",
    "    print(f.read())"
   ]
  },
  {
   "cell_type": "code",
   "execution_count": 1,
   "metadata": {},
   "outputs": [],
   "source": [
    "# exception handling"
   ]
  },
  {
   "cell_type": "code",
   "execution_count": 4,
   "metadata": {},
   "outputs": [
    {
     "name": "stdout",
     "output_type": "stream",
     "text": [
      "Enter your name: Arjun\n",
      "Try executed successfully\n",
      "Finally will always execute\n"
     ]
    }
   ],
   "source": [
    "try:\n",
    "    a = input(\"Enter your name: \")\n",
    "    if (len(a) < 4):\n",
    "        raise Exception\n",
    "    \n",
    "except FileNotFoundError:\n",
    "    print(\"File not found\")\n",
    "    \n",
    "except NameError:\n",
    "    print(\"variable is not defined\")\n",
    "    \n",
    "except Exception:\n",
    "    print(\"generalised error\")\n",
    "    \n",
    "else:\n",
    "    print(\"Try executed successfully\")\n",
    "    \n",
    "finally:\n",
    "    print(\"Finally will always execute\")"
   ]
  },
  {
   "cell_type": "code",
   "execution_count": null,
   "metadata": {},
   "outputs": [],
   "source": []
  }
 ],
 "metadata": {
  "kernelspec": {
   "display_name": "Python 3",
   "language": "python",
   "name": "python3"
  },
  "language_info": {
   "codemirror_mode": {
    "name": "ipython",
    "version": 3
   },
   "file_extension": ".py",
   "mimetype": "text/x-python",
   "name": "python",
   "nbconvert_exporter": "python",
   "pygments_lexer": "ipython3",
   "version": "3.6.8"
  }
 },
 "nbformat": 4,
 "nbformat_minor": 2
}
