{
 "cells": [
  {
   "cell_type": "code",
   "execution_count": 10,
   "metadata": {},
   "outputs": [],
   "source": [
    "class Person:\n",
    "    # class variable, common for all instances of a class\n",
    "    nationality = \"Indian\"\n",
    "    \n",
    "    # every function should have first parameter as self, which refers to the object of a class\n",
    "    \n",
    "    # this is how constructor is defined\n",
    "    def __init__(self, pname, clg):\n",
    "        # instance variable, these are different for different instances of a class\n",
    "        self.name = pname\n",
    "        self.college = clg\n",
    "        \n",
    "    def sayHi(self, name):\n",
    "        print(\"Hello {}\".format(name))\n",
    "        \n",
    "    # __ is used to make a data member or function private and hence can only be called by member functions\n",
    "    def __secretAct(self):\n",
    "        print(\"{} is doing secret activity\".format(self.name))\n",
    "        \n",
    "    def introduce(self):\n",
    "        print(\"My name is \" + self.name)\n",
    "        print(\"I am from \" + self.college)\n",
    "        print(\"I am \" + self.nationality)\n",
    "        self.__secretAct()\n",
    "        "
   ]
  },
  {
   "cell_type": "code",
   "execution_count": 11,
   "metadata": {},
   "outputs": [
    {
     "name": "stdout",
     "output_type": "stream",
     "text": [
      "Hello Majithia\n",
      "My name is Arjun\n",
      "I am from NSIT\n",
      "I am Indian\n",
      "Arjun is doing secret activity\n"
     ]
    }
   ],
   "source": [
    "p = Person(\"Arjun\", \"NSIT\")\n",
    "p.sayHi(\"Majithia\")\n",
    "p.introduce()"
   ]
  },
  {
   "cell_type": "code",
   "execution_count": 12,
   "metadata": {},
   "outputs": [],
   "source": [
    "# by default access modifier of classes in python is PUBLIC"
   ]
  },
  {
   "cell_type": "code",
   "execution_count": 13,
   "metadata": {},
   "outputs": [],
   "source": [
    "# inheritence in python"
   ]
  },
  {
   "cell_type": "code",
   "execution_count": 16,
   "metadata": {},
   "outputs": [
    {
     "name": "stdout",
     "output_type": "stream",
     "text": [
      "Init school member: Prateek\n",
      "Init teacher: Prateek\n",
      "Name: Prateek\n",
      "Age: 28\n",
      "Salary: 80000\n",
      "\n",
      "Init school member: Arjun\n",
      "Init student: Arjun\n",
      "Name: Arjun\n",
      "Age: 20\n",
      "Marks: 85\n"
     ]
    }
   ],
   "source": [
    "class SchoolMember:\n",
    "    \n",
    "    def __init__(self, name, age):\n",
    "        self.name = name\n",
    "        self.age = age\n",
    "        print(\"Init school member: {}\".format(self.name))\n",
    "        \n",
    "    def introduce(self):\n",
    "        print(\"Name: {}\".format(self.name))\n",
    "        print(\"Age: {}\".format(self.age))\n",
    "        \n",
    "# this is how inheritance is done\n",
    "class Teacher(SchoolMember):\n",
    "    \n",
    "    def __init__(self, name, age, salary):\n",
    "        SchoolMember.__init__(self, name, age)\n",
    "        self.salary = salary\n",
    "        print(\"Init teacher: {}\".format(self.name))\n",
    "        \n",
    "    def introduce(self):\n",
    "        SchoolMember.introduce(self)\n",
    "        print(\"Salary: {}\".format(self.salary))\n",
    "        \n",
    "class Student(SchoolMember):\n",
    "    \n",
    "    def __init__(self, name, age, marks):\n",
    "        SchoolMember.__init__(self, name, age)\n",
    "        self.marks = marks\n",
    "        print(\"Init student: {}\".format(self.name))\n",
    "        \n",
    "    def introduce(self):\n",
    "        SchoolMember.introduce(self)\n",
    "        print(\"Marks: {}\".format(self.marks))\n",
    "        \n",
    "t = Teacher(\"Prateek\", 28, 80000)\n",
    "t.introduce()\n",
    "print()\n",
    "s = Student(\"Arjun\", 20, 85)\n",
    "s.introduce()"
   ]
  },
  {
   "cell_type": "code",
   "execution_count": null,
   "metadata": {},
   "outputs": [],
   "source": []
  }
 ],
 "metadata": {
  "kernelspec": {
   "display_name": "Python 3",
   "language": "python",
   "name": "python3"
  },
  "language_info": {
   "codemirror_mode": {
    "name": "ipython",
    "version": 3
   },
   "file_extension": ".py",
   "mimetype": "text/x-python",
   "name": "python",
   "nbconvert_exporter": "python",
   "pygments_lexer": "ipython3",
   "version": "3.6.8"
  }
 },
 "nbformat": 4,
 "nbformat_minor": 2
}
